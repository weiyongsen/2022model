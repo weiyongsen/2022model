{
 "cells": [
  {
   "cell_type": "code",
   "execution_count": 2,
   "metadata": {},
   "outputs": [],
   "source": [
    "import matplotlib.pyplot as plt\n",
    "import numpy as np\n",
    "from numpy.linalg import solve\n",
    "import random\n",
    "plt.rcParams['font.sans-serif']=['SimHei'] #用来正常显示中文标签"
   ]
  },
  {
   "cell_type": "code",
   "execution_count": 3,
   "metadata": {},
   "outputs": [
    {
     "name": "stdout",
     "output_type": "stream",
     "text": [
      "[[-9.76562500e-04]\n",
      " [ 1.18359375e+00]]\n"
     ]
    }
   ],
   "source": [
    "# numpy解方程组\n",
    "a=np.mat([[188,1],[700,1]])#系数矩阵\n",
    "b=np.mat([1,0.5]).T    #常数项列矩阵\n",
    "x=solve(a,b)        #方程组的解\n",
    "print(x)\n"
   ]
  },
  {
   "cell_type": "code",
   "execution_count": 4,
   "metadata": {},
   "outputs": [],
   "source": [
    "from sympy import *\n",
    "\n",
    "# 求解参数方程组\n",
    "miu = 0.01 \n",
    "g = 9.8\n",
    "m = 70\n",
    "r = 0.66   # 车轮半径\n",
    "c = 0.25   # 一个未知系数\n",
    "w_shoulder = 0.46    # 肩宽\n",
    "l_leg = 1.0        # 腿长\n",
    "s = w_shoulder * l_leg   # 人加车正对面积\n",
    "rou = 1.205   # kg/m^3\n"
   ]
  },
  {
   "cell_type": "code",
   "execution_count": 6,
   "metadata": {},
   "outputs": [
    {
     "name": "stdout",
     "output_type": "stream",
     "text": [
      "13.580757196969698\n",
      "-28.879691092416767\n"
     ]
    }
   ],
   "source": [
    "import math\n",
    "t=math.atan(-0.062)\n",
    "\n",
    "\n",
    "def f1(theta):\n",
    "    return math.cos(theta)*miu*m*g/(2*r) + m*g*math.sin(theta)\n",
    "\n",
    "def f2(v):\n",
    "    return 1/2*c*rou*s*v*v\n",
    "\n",
    "def f_zu(theta, v):\n",
    "    return f1(theta) + f2(v)\n",
    "\n",
    "\n",
    "print(f_zu(0,11))\n",
    "print(f_zu(t,11))"
   ]
  },
  {
   "cell_type": "code",
   "execution_count": 8,
   "metadata": {},
   "outputs": [
    {
     "name": "stderr",
     "output_type": "stream",
     "text": [
      "D:\\Miniconda3\\envs\\tensorflow\\lib\\site-packages\\IPython\\core\\pylabtools.py:151: UserWarning: Glyph 8722 (\\N{MINUS SIGN}) missing from current font.\n",
      "  fig.canvas.print_figure(bytes_io, **kw)\n"
     ]
    },
    {
     "data": {
      "image/png": "[encoded data removed]",
      "text/plain": [
       "<Figure size 432x288 with 1 Axes>"
      ]
     },
     "metadata": {
      "needs_background": "light"
     },
     "output_type": "display_data"
    }
   ],
   "source": [
    "tem_alpha = 0.99\n",
    "tem = 0.00000001\n",
    "t=[]\n",
    "t.append(tem)\n",
    "for i in range(10000):\n",
    "    t.append(t[i]*tem_alpha)\n",
    "\n",
    "plt.plot(t)\n",
    "plt.show()"
   ]
  }
 ],
 "metadata": {
  "interpreter": {
   "hash": "f94055e97f51ddfa7d9cd102fb05edcbeb6bf63bb7fd3b128357cbdb378bd053"
  },
  "kernelspec": {
   "display_name": "Python 3.7.5 ('tensorflow')",
   "language": "python",
   "name": "python3"
  },
  "language_info": {
   "codemirror_mode": {
    "name": "ipython",
    "version": 3
   },
   "file_extension": ".py",
   "mimetype": "text/x-python",
   "name": "python",
   "nbconvert_exporter": "python",
   "pygments_lexer": "ipython3",
   "version": "3.7.5"
  },
  "orig_nbformat": 4
 },
 "nbformat": 4,
 "nbformat_minor": 2
}
