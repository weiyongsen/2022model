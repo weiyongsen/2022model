{
 "cells": [
  {
   "cell_type": "code",
   "execution_count": 10,
   "metadata": {},
   "outputs": [],
   "source": [
    "import matplotlib.pyplot as plt\n",
    "import numpy as np\n",
    "from numpy.linalg import solve\n",
    "plt.rcParams['font.sans-serif']=['SimHei'] #用来正常显示中文标签"
   ]
  },
  {
   "cell_type": "code",
   "execution_count": 11,
   "metadata": {},
   "outputs": [
    {
     "name": "stdout",
     "output_type": "stream",
     "text": [
      "[[2.38969595e-06]\n",
      " [3.19877648e+00]]\n"
     ]
    }
   ],
   "source": [
    "# numpy解方程组\n",
    "a=np.mat([[64*8,1],[658**3,1]])#系数矩阵\n",
    "b=np.mat([3.2,684]).T    #常数项列矩阵\n",
    "x=solve(a,b)        #方程组的解\n",
    "print(x)\n"
   ]
  },
  {
   "cell_type": "code",
   "execution_count": 9,
   "metadata": {},
   "outputs": [
    {
     "name": "stdout",
     "output_type": "stream",
     "text": [
      "[5.49032215972229, -2.74516107986114 - 9.87995976618083*I, -2.74516107986114 + 9.87995976618083*I]\n"
     ]
    }
   ],
   "source": [
    "from sympy import *\n",
    "\n",
    "# 求解参数方程组\n",
    "miu = 0.01 \n",
    "g = 9.8\n",
    "m = 70\n",
    "r = 0.66   # 车轮半径\n",
    "c = 0.25   # 一个未知系数\n",
    "w_shoulder = 0.46    # 肩宽\n",
    "l_leg = 1.0        # 腿长\n",
    "s = w_shoulder * l_leg   # 人加车正对面积\n",
    "p = 1.205   # kg/m^3\n",
    "\n",
    "def f(v):\n",
    "    return miu*m*g/(2*r) + 1/2*c*p*s*(v)**2  # 1/2*c*p*s   $\\approx$  0.002\n",
    "\n",
    "v = Symbol('v')\n",
    "print(solve(f(v)*v-40,v))"
   ]
  }
 ],
 "metadata": {
  "interpreter": {
   "hash": "f94055e97f51ddfa7d9cd102fb05edcbeb6bf63bb7fd3b128357cbdb378bd053"
  },
  "kernelspec": {
   "display_name": "Python 3.7.5 ('tensorflow')",
   "language": "python",
   "name": "python3"
  },
  "language_info": {
   "codemirror_mode": {
    "name": "ipython",
    "version": 3
   },
   "file_extension": ".py",
   "mimetype": "text/x-python",
   "name": "python",
   "nbconvert_exporter": "python",
   "pygments_lexer": "ipython3",
   "version": "3.7.5"
  },
  "orig_nbformat": 4
 },
 "nbformat": 4,
 "nbformat_minor": 2
}
