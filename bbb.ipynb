{
 "cells": [
  {
   "cell_type": "code",
   "execution_count": 2,
   "metadata": {},
   "outputs": [],
   "source": [
    "from sympy import *"
   ]
  },
  {
   "cell_type": "code",
   "execution_count": 3,
   "metadata": {},
   "outputs": [
    {
     "name": "stdout",
     "output_type": "stream",
     "text": [
      "x + y\n"
     ]
    }
   ],
   "source": [
    "#测试语句\n",
    "x=Symbol('x')\n",
    "y=Symbol('y')\n",
    "print(x+y)"
   ]
  },
  {
   "cell_type": "code",
   "execution_count": 4,
   "metadata": {},
   "outputs": [
    {
     "name": "stdout",
     "output_type": "stream",
     "text": [
      "[5.49032215972229, -2.74516107986114 - 9.87995976618083*I, -2.74516107986114 + 9.87995976618083*I]\n"
     ]
    }
   ],
   "source": [
    "miu = 0.01 \n",
    "g = 9.8\n",
    "m = 70\n",
    "r = 0.66   # 车轮半径\n",
    "c = 0.25   # 一个未知系数\n",
    "w_shoulder = 0.46    # 肩宽\n",
    "l_leg = 1.0        # 腿长\n",
    "s = w_shoulder * l_leg   # 人加车正对面积\n",
    "p = 1.205   # kg/m^3\n",
    "\n",
    "def f(v):\n",
    "    return miu*m*g/(2*r) + 1/2*c*p*s*(v)**2  # 1/2*c*p*s   $\\approx$  0.002\n",
    "\n",
    "v = Symbol('v')\n",
    "print(solve(f(v)*v-40,v))"
   ]
  }
 ],
 "metadata": {
  "interpreter": {
   "hash": "f94055e97f51ddfa7d9cd102fb05edcbeb6bf63bb7fd3b128357cbdb378bd053"
  },
  "kernelspec": {
   "display_name": "Python 3.7.5 ('tensorflow')",
   "language": "python",
   "name": "python3"
  },
  "language_info": {
   "codemirror_mode": {
    "name": "ipython",
    "version": 3
   },
   "file_extension": ".py",
   "mimetype": "text/x-python",
   "name": "python",
   "nbconvert_exporter": "python",
   "pygments_lexer": "ipython3",
   "version": "3.7.5"
  },
  "orig_nbformat": 4
 },
 "nbformat": 4,
 "nbformat_minor": 2
}
